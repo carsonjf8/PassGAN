{
  "cells": [
    {
      "cell_type": "code",
      "execution_count": null,
      "id": "d27c8d1d",
      "metadata": {
        "ExecuteTime": {
          "end_time": "2023-05-14T04:36:31.454525Z",
          "start_time": "2023-05-14T04:36:23.174797Z"
        },
        "id": "d27c8d1d",
        "outputId": "cc6bf900-dcf2-4893-83ec-c35c70164bb6"
      },
      "outputs": [
        {
          "name": "stdout",
          "output_type": "stream",
          "text": [
            "14344391\n"
          ]
        }
      ],
      "source": [
        "import glob\n",
        "import re\n",
        "import numpy as np\n",
        "rockyou = []\n",
        "with open(\"rockyou.txt\",\"rt\", encoding='latin-1') as f:\n",
        "    for line in f:\n",
        "        text = re.sub('\\n', '', line)\n",
        "        rockyou.append(line)\n",
        "print(len(rockyou))"
      ]
    },
    {
      "cell_type": "code",
      "execution_count": null,
      "id": "76d7db74",
      "metadata": {
        "ExecuteTime": {
          "end_time": "2023-05-14T04:36:39.628273Z",
          "start_time": "2023-05-14T04:36:31.455444Z"
        },
        "id": "76d7db74",
        "outputId": "4cd009c8-1bc5-450c-fc3e-a7b463de508c"
      },
      "outputs": [
        {
          "name": "stdout",
          "output_type": "stream",
          "text": [
            "9891055\n",
            "passwords left length7912844\n",
            "training ln 7912844\n",
            "testing ln 1978211\n",
            "training ln 7912844\n",
            "testing ln 1978211\n"
          ]
        }
      ],
      "source": [
        "rock_10=[x for x in rockyou if len(x) <= 10]\n",
        "# rock_10 = list(set(rock_10))\n",
        "np.random.shuffle(rock_10)\n",
        "print(len(rock_10))\n",
        "train_len = 0.8*len(rock_10)\n",
        "print(f\"passwords left length{int(train_len)}\")\n",
        "# train_data = rock_10[:int(train_len)]\n",
        "# test_data = rock_10[int(train_len):]\n",
        "train, test = np.split(rock_10, [int(len(rock_10)*0.8)])\n",
        "print(f\"training ln {len(train)}\")\n",
        "print(f\"testing ln {len(test)}\")\n",
        "\n",
        "# test_data = [x for x in test if x not in train]\n",
        "\n",
        "print(f\"training ln {len(train)}\")\n",
        "print(f\"testing ln {len(test)}\")\n",
        "\n",
        "with open('train_rock_you.txt', 'w') as f:\n",
        "    for line in train:\n",
        "        f.write(f\"{line}\")\n",
        "        \n",
        "with open('test_rock_you.txt', 'w') as f:\n",
        "    for line in test:\n",
        "        f.write(f\"{line}\")"
      ]
    },
    {
      "cell_type": "code",
      "execution_count": null,
      "id": "3da453d3",
      "metadata": {
        "id": "3da453d3"
      },
      "outputs": [],
      "source": []
    }
  ],
  "metadata": {
    "kernelspec": {
      "display_name": "Python 3",
      "language": "python",
      "name": "python3"
    },
    "language_info": {
      "codemirror_mode": {
        "name": "ipython",
        "version": 3
      },
      "file_extension": ".py",
      "mimetype": "text/x-python",
      "name": "python",
      "nbconvert_exporter": "python",
      "pygments_lexer": "ipython3",
      "version": "3.9.16"
    },
    "varInspector": {
      "cols": {
        "lenName": 16,
        "lenType": 16,
        "lenVar": 40
      },
      "kernels_config": {
        "python": {
          "delete_cmd_postfix": "",
          "delete_cmd_prefix": "del ",
          "library": "var_list.py",
          "varRefreshCmd": "print(var_dic_list())"
        },
        "r": {
          "delete_cmd_postfix": ") ",
          "delete_cmd_prefix": "rm(",
          "library": "var_list.r",
          "varRefreshCmd": "cat(var_dic_list()) "
        }
      },
      "types_to_exclude": [
        "module",
        "function",
        "builtin_function_or_method",
        "instance",
        "_Feature"
      ],
      "window_display": false
    },
    "colab": {
      "provenance": []
    }
  },
  "nbformat": 4,
  "nbformat_minor": 5
}